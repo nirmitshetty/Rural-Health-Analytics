{
 "cells": [
  {
   "cell_type": "code",
   "execution_count": 4,
   "metadata": {
    "collapsed": false
   },
   "outputs": [],
   "source": [
    "# AVERAGE POPULATION COVERED BY A SINGLE SUB CENTRE, PHC, CHC\n",
    "\n",
    "import pandas as pd\n",
    "import matplotlib.pyplot as plt\n",
    "import numpy as np\n",
    "\n",
    "\n",
    "data = pd.read_csv(\"C:\\Users\\Nirmit\\kanoe_project\\pop_covered_statewise\\JK_pop.csv\")\n",
    "\n",
    "def autolabel(rects):\n",
    "    for rect in rects:\n",
    "        height = rect.get_height()\n",
    "        plt.text(rect.get_x()+rect.get_width()/2., 1.05*height, '%d'%int(height),\n",
    "                ha='center', va='bottom')\t\n",
    "pos = list(range(len(data['sub-centre']))) # setting position of the graphs\n",
    "width = 0.25\n",
    "fig, ax = plt.subplots(figsize=(10,5)) # plotting the graphs\n",
    "rect1=plt.bar(pos,data['sub-centre'],width , alpha=0.5 , color='#EE3224',label=data['year'][0])\n",
    "autolabel(rect1)\n",
    "rect2 = plt.bar([p+width for p in pos],data['phc'],width,alpha = 0.5,color='#FFC222',label=data['year'][1])\n",
    "autolabel(rect2)\n",
    "rect3 = plt.bar([p+width*2 for p in pos],data['chc'],width,alpha=0.5,color='#F78F1E',label=data['year'][2])\n",
    "autolabel(rect3)\n",
    "ax.set_xlabel('Year')\n",
    "ax.set_ylabel('Average population covered')\n",
    "ax.set_title('Average rural population covered in JammuKashmir across years(2005-14)')\n",
    "ax.set_xticks([p + 1.5 * width for p in pos])\n",
    "ax.set_xticklabels(data['year'])\n",
    "plt.xlim(min(pos)-width, max(pos)+width*4)\n",
    "plt.ylim([0, max(data['sub-centre'] + data['phc'] + data['chc'])] )\n",
    "plt.legend(['sub-centre', 'phc', 'chc'], loc='upper center')\n",
    "plt.grid()\n",
    "plt.show()"
   ]
  },
  {
   "cell_type": "code",
   "execution_count": null,
   "metadata": {
    "collapsed": true
   },
   "outputs": [],
   "source": []
  },
  {
   "cell_type": "code",
   "execution_count": 5,
   "metadata": {
    "collapsed": true
   },
   "outputs": [],
   "source": [
    "# DEATH RATE VS SHORTFALL IN DOCTORS AT PHCs\n",
    "# negative shortfall indicates surplus\n",
    "\n",
    "import pandas as pd\n",
    "import matplotlib.pyplot as plt\n",
    "import numpy as np\n",
    "data = pd.read_csv(\"C:\\Users\\Nirmit\\kanoe_project\\death_statewise\\JK_death.csv\")#enter path here\n",
    "death_rate = data['death_rate']\n",
    "Shortfall = data['Shortfall']\n",
    "plt.scatter(death_rate,Shortfall)\n",
    "plt.xlabel('DeathRate')\n",
    "plt.ylabel('Shortfall(R-P)')\n",
    "plt.title('DeathRate VS Shortfall(2005-13)')\n",
    "plt.grid(True)\n",
    "plt.show()"
   ]
  },
  {
   "cell_type": "code",
   "execution_count": null,
   "metadata": {
    "collapsed": true
   },
   "outputs": [],
   "source": []
  }
 ],
 "metadata": {
  "anaconda-cloud": {},
  "kernelspec": {
   "display_name": "Python [Root]",
   "language": "python",
   "name": "Python [Root]"
  },
  "language_info": {
   "codemirror_mode": {
    "name": "ipython",
    "version": 2
   },
   "file_extension": ".py",
   "mimetype": "text/x-python",
   "name": "python",
   "nbconvert_exporter": "python",
   "pygments_lexer": "ipython2",
   "version": "2.7.11"
  }
 },
 "nbformat": 4,
 "nbformat_minor": 0
}
