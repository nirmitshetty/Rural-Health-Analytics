{
 "cells": [
  {
   "cell_type": "code",
   "execution_count": 11,
   "metadata": {
    "collapsed": true
   },
   "outputs": [],
   "source": [
    "# AVERAGE POPULATION COVERED BY A SINGLE SUB CENTRE, PHC, CHC\n",
    "\n",
    "import pandas as pd\n",
    "import matplotlib.pyplot as plt\n",
    "import numpy as np\n",
    "\n",
    "#path of file to be opened\n",
    "data = pd.read_csv(\"C:\\Users\\Nirmit\\kanoe_project\\pop_covered_statewise\\JHA_pop.csv\")\n",
    "\n",
    "def autolabel(rects):\n",
    "    for rect in rects:\n",
    "        height = rect.get_height()\n",
    "        plt.text(rect.get_x()+rect.get_width()/2., 1.05*height, '%d'%int(height),\n",
    "                ha='center', va='bottom')\n",
    "pos = list(range(len(data['sub-centre']))) # setting position of the graphs\n",
    "width = 0.25\n",
    "fig, ax = plt.subplots(figsize=(10,5)) # plotting the graphs\n",
    "rect1=plt.bar(pos,data['sub-centre'],width , alpha=0.5 , color='#EE3224',label=data['year'][0])\n",
    "autolabel(rect1)\n",
    "rect2 = plt.bar([p+width for p in pos],data['phc'],width,alpha = 0.5,color='#FFC222',label=data['year'][1])\n",
    "autolabel(rect2)\n",
    "rect3 = plt.bar([p+width*2 for p in pos],data['chc'],width,alpha=0.5,color='#F78F1E',label=data['year'][2])\n",
    "autolabel(rect3)\n",
    "ax.set_xlabel('Year')\n",
    "ax.set_ylabel('Average population covered')\n",
    "ax.set_title('Average rural population covered in Jharkhand across years(2005-14)')\n",
    "ax.set_xticks([p + 1.5 * width for p in pos])\n",
    "ax.set_xticklabels(data['year'])\n",
    "plt.xlim(min(pos)-width, max(pos)+width*4)\n",
    "plt.ylim([0,490000] )\n",
    "plt.legend(['sub-centre', 'phc', 'chc'], loc='upper right')\n",
    "plt.grid()\n",
    "plt.show()"
   ]
  },
  {
   "cell_type": "code",
   "execution_count": null,
   "metadata": {
    "collapsed": true
   },
   "outputs": [],
   "source": []
  },
  {
   "cell_type": "code",
   "execution_count": 1,
   "metadata": {
    "collapsed": false
   },
   "outputs": [
    {
     "data": {
      "text/html": [
       "<iframe id=\"igraph\" scrolling=\"no\" style=\"border:none;\" seamless=\"seamless\" src=\"https://plot.ly/~nirmit/32.embed\" height=\"525px\" width=\"100%\"></iframe>"
      ],
      "text/plain": [
       "<plotly.tools.PlotlyDisplay object>"
      ]
     },
     "execution_count": 1,
     "metadata": {},
     "output_type": "execute_result"
    }
   ],
   "source": [
    "# BUILDING POSITION OF SUB CENTRES\n",
    "# starting at year:2006-2014\n",
    "\n",
    "import plotly\n",
    "plotly.tools.set_credentials_file(username='nirmit', api_key='0q6xb4al8m') #enter your plotly credentials\n",
    "import xlrd\n",
    "import plotly.plotly as py\n",
    "import plotly.graph_objs as go\n",
    "file_location = \"C:/Users/Nirmit/kanoe_project/building_pos_sc/JHA_build.xlsx\" #enter path here\n",
    "workbook = xlrd.open_workbook(file_location)\n",
    "sheet = workbook.sheet_by_index(0)\n",
    "labels=[]\n",
    "values = []\n",
    "labels.append(sheet.cell_value(0,1))\n",
    "labels.append(sheet.cell_value(0,2))\n",
    "labels.append(sheet.cell_value(0,3))\n",
    "row = 1 #1 corresponds to starting year\n",
    "for col in range(1,4) :\n",
    "    ele = sheet.cell_value(row,col)\n",
    "    values.append(ele)\n",
    "fig = {\n",
    "   'data': [{'labels': labels,\n",
    "             'values': values,\n",
    "             'type': 'pie'}],\n",
    "    'layout': {'title': 'Jharkhand SubCenter Status'}\n",
    "     }\n",
    "py.iplot(fig)"
   ]
  },
  {
   "cell_type": "code",
   "execution_count": 1,
   "metadata": {
    "collapsed": false
   },
   "outputs": [
    {
     "data": {
      "text/html": [
       "<iframe id=\"igraph\" scrolling=\"no\" style=\"border:none;\" seamless=\"seamless\" src=\"https://plot.ly/~nirmit/96.embed\" height=\"525px\" width=\"100%\"></iframe>"
      ],
      "text/plain": [
       "<plotly.tools.PlotlyDisplay object>"
      ]
     },
     "execution_count": 1,
     "metadata": {},
     "output_type": "execute_result"
    }
   ],
   "source": [
    "# BUILDING POSITION OF PRIMARY HEALTH CENTRES\n",
    "# starting at year:2006-2014\n",
    "\n",
    "import plotly\n",
    "plotly.tools.set_credentials_file(username='nirmit', api_key='0q6xb4al8m') #enter your plotly credentials\n",
    "import xlrd\n",
    "import plotly.plotly as py\n",
    "import plotly.graph_objs as go\n",
    "file_location =\"C:/Users/Nirmit/kanoe_project/building_pos_phc/JHA_pbuild.xlsx\" #enter path here\n",
    "workbook = xlrd.open_workbook(file_location)\n",
    "sheet = workbook.sheet_by_index(0)\n",
    "labels=[]\n",
    "values = []\n",
    "labels.append(sheet.cell_value(0,1))\n",
    "labels.append(sheet.cell_value(0,2))\n",
    "labels.append(sheet.cell_value(0,3))\n",
    "row = 1 #1 corresponds to starting year\n",
    "for col in range(1,4) :\n",
    "    ele = sheet.cell_value(row,col)\n",
    "    values.append(ele)\n",
    "fig = {\n",
    "   'data': [{'labels': labels,\n",
    "             'values': values,\n",
    "             'type': 'pie'}],\n",
    "    'layout': {'title': 'Jharkhand PHC Status'}\n",
    "     }\n",
    "py.iplot(fig)"
   ]
  },
  {
   "cell_type": "code",
   "execution_count": 1,
   "metadata": {
    "collapsed": false
   },
   "outputs": [
    {
     "data": {
      "text/html": [
       "<iframe id=\"igraph\" scrolling=\"no\" style=\"border:none;\" seamless=\"seamless\" src=\"https://plot.ly/~nirmit/156.embed\" height=\"525px\" width=\"100%\"></iframe>"
      ],
      "text/plain": [
       "<plotly.tools.PlotlyDisplay object>"
      ]
     },
     "execution_count": 1,
     "metadata": {},
     "output_type": "execute_result"
    }
   ],
   "source": [
    "# BUIDLING POSITION OF COMMUNITY HEALTH CENTRES\n",
    "# starting at year:2006-08\n",
    "\n",
    "import plotly\n",
    "plotly.tools.set_credentials_file(username='nirmit', api_key='0q6xb4al8m') #enter your plotly credentials\n",
    "import xlrd\n",
    "import plotly.plotly as py\n",
    "import plotly.graph_objs as go\n",
    "file_location =\"C:/Users/Nirmit/kanoe_project/building_pos_chc/JHA_chcpos.xlsx\" #enter path here\n",
    "workbook = xlrd.open_workbook(file_location)\n",
    "sheet = workbook.sheet_by_index(0)\n",
    "labels=[]\n",
    "values = []\n",
    "labels.append(sheet.cell_value(0,1))\n",
    "labels.append(sheet.cell_value(0,2))\n",
    "labels.append(sheet.cell_value(0,3))\n",
    "row = 1 #1 corresponds to starting year\n",
    "for col in range(1,4) :\n",
    "    ele = sheet.cell_value(row,col)\n",
    "    values.append(ele)\n",
    "fig = {\n",
    "   'data': [{'labels': labels,\n",
    "             'values': values,\n",
    "             'type': 'pie'}],\n",
    "    'layout': {'title': 'Jharkhand CHC Status'}\n",
    "     }\n",
    "py.iplot(fig)"
   ]
  },
  {
   "cell_type": "code",
   "execution_count": null,
   "metadata": {
    "collapsed": true
   },
   "outputs": [],
   "source": []
  },
  {
   "cell_type": "code",
   "execution_count": 4,
   "metadata": {
    "collapsed": true
   },
   "outputs": [],
   "source": [
    "# DEATH RATE VS YEAR\n",
    "\n",
    "import pandas as pd\n",
    "import matplotlib.pyplot as plt\n",
    "import numpy as np\n",
    "data = pd.read_csv(\"C:\\Users\\Nirmit\\kanoe_project\\death_statewise\\JHA_death.csv\")#enter path here\n",
    "year=data['Year']\n",
    "death = data['death_rate']\n",
    "rect = plt.bar(year,death,align='center')\n",
    "plt.xlabel('Year')\n",
    "plt.ylabel('Death Rate')\n",
    "plt.title('Death Rate in Jharkhand across years')\n",
    "def autolabel(rects):\n",
    "    for rect in rects:\n",
    "        height = rect.get_height()\n",
    "        plt.text(rect.get_x()+rect.get_width()/2., 1.05*height, '%d'%int(height),\n",
    "                ha='center', va='bottom')\n",
    "bar_width=0.35\n",
    "plt.xticks(np.arange(min(year), max(year)+1, 1.0),('2006','2007','2008','2009','2010','2011','2012','2013'),rotation='vertical')\n",
    "autolabel(rect)\n",
    "plt.grid(True)\n",
    "plt.ylim([0,9])\n",
    "plt.show()"
   ]
  },
  {
   "cell_type": "code",
   "execution_count": 1,
   "metadata": {
    "collapsed": true
   },
   "outputs": [],
   "source": [
    "# DEATH RATE VS SHORTFALL IN DOCTORS AT PHCs\n",
    "# negative shortfall indicates surplus\n",
    "\n",
    "import pandas as pd\n",
    "import matplotlib.pyplot as plt\n",
    "import numpy as np\n",
    "data = pd.read_csv(\"C:\\Users\\Nirmit\\kanoe_project\\death_statewise\\JHA_death.csv\")#enter path here\n",
    "death_rate = data['death_rate']\n",
    "Shortfall = data['Shortfall']\n",
    "plt.scatter(death_rate,Shortfall)\n",
    "plt.xlabel('DeathRate')\n",
    "plt.ylabel('Shortfall(R-P)')\n",
    "plt.title('DeathRate VS Shortfall(2006-13)')\n",
    "plt.grid(True)\n",
    "plt.show()"
   ]
  },
  {
   "cell_type": "code",
   "execution_count": 13,
   "metadata": {
    "collapsed": true
   },
   "outputs": [],
   "source": [
    "# REQUIRED-SANCTION-IN POSITION OF DOCTORS IN PHC\n",
    "\n",
    "import pandas as pd\n",
    "import matplotlib.pyplot as plt\n",
    "import numpy as np\n",
    "data = pd.read_csv(\"C:\\Users\\Nirmit\\kanoe_project\\doctors_phc\\JHA_rsp_phc.csv\")#enter path here\n",
    "def autolabel(rects):\n",
    "    for rect in rects:\n",
    "        height = rect.get_height()\n",
    "        plt.text(rect.get_x()+rect.get_width()/2., 1.05*height, '%d'%int(height),\n",
    "                ha='center', va='bottom')\t\t\n",
    "pos = list(range(len(data['R']))) # setting position of the graphs\n",
    "width = 0.25\n",
    "fig, ax = plt.subplots(figsize=(10,5)) # plotting the graphs\n",
    "rect1=plt.bar(pos,data['R'],width , alpha=0.5 , color='#EE3224',label=data['year'][0])\n",
    "autolabel(rect1)\n",
    "rect2 = plt.bar([p+width for p in pos],data['S'],width,alpha = 0.5,color='#FFC222',label=data['year'][1])\n",
    "autolabel(rect2)\n",
    "rect3 = plt.bar([p+width*2 for p in pos],data['P'],width,alpha=0.5,color='#F78F1E',label=data['year'][2])\n",
    "autolabel(rect3)\n",
    "ax.set_xlabel('Year')\n",
    "ax.set_ylabel('No of doctors')\n",
    "ax.set_title('Number of doctors in PHC in Jharkhand across years 2005-14')\n",
    "ax.set_xticks([p + 1.5 * width for p in pos])\n",
    "ax.set_xticklabels(data['year'])\n",
    "plt.xlim(min(pos)-width, max(pos)+width*4)\n",
    "plt.ylim([0, 5500] )\n",
    "plt.legend(['Required', 'Sanctioned', 'InPosition'], loc='upper left')\n",
    "plt.grid()\n",
    "plt.show()"
   ]
  },
  {
   "cell_type": "code",
   "execution_count": null,
   "metadata": {
    "collapsed": true
   },
   "outputs": [],
   "source": []
  },
  {
   "cell_type": "code",
   "execution_count": 2,
   "metadata": {
    "collapsed": false
   },
   "outputs": [],
   "source": [
    "# INFANT MORTALITY RATE VS YEAR\n",
    "\n",
    "import pandas as pd\n",
    "import matplotlib.pyplot as plt\n",
    "import numpy as np\n",
    "data = pd.read_csv(\"C:\\Users\\Nirmit\\kanoe_project\\imr_statewise\\JHA_imr.csv\")#enter path here\n",
    "year=data['Year']\n",
    "death = data['IMR-rural']\n",
    "rect = plt.bar(year,death,align='center')\n",
    "plt.xlabel('Year')\n",
    "plt.ylabel('No of infant deaths')\n",
    "plt.title('IMR in Jharkhand across years')\n",
    "def autolabel(rects):\n",
    "    for rect in rects:\n",
    "        height = rect.get_height()\n",
    "        plt.text(rect.get_x()+rect.get_width()/2., 1.05*height, '%d'%int(height),\n",
    "                ha='center', va='bottom')\n",
    "bar_width=0.35\n",
    "plt.xticks(np.arange(min(year), max(year)+1, 1.0),('2004','2005','2006','2007','2008','2009','2010','2011','2012','2013'),rotation='vertical')\n",
    "autolabel(rect)\n",
    "plt.ylim([0, 90] )\n",
    "plt.grid(True)\n",
    "plt.show()"
   ]
  },
  {
   "cell_type": "code",
   "execution_count": 8,
   "metadata": {
    "collapsed": true
   },
   "outputs": [],
   "source": [
    "# FACILITIES AT CHC\n",
    "\n",
    "import pandas as pd\n",
    "import matplotlib.pyplot as plt\n",
    "import numpy as np\n",
    "data = pd.read_csv(\"C:\\Users\\Nirmit\\kanoe_project\\chcf\\JHA_fchc.csv\")#enter path here\n",
    "def autolabel(rects):\n",
    "    for rect in rects:\n",
    "        height = rect.get_height()\n",
    "        plt.text(rect.get_x()+rect.get_width()/2., 0.95*height, '%d'%int(height),\n",
    "                ha='center', va='bottom')\t\t\t\n",
    "pos = list(range(len(data['With functioning Stabilization Units for New Born']))) # setting position of the graphs\n",
    "width = 0.2\n",
    "fig, ax = plt.subplots(figsize=(10,5)) # plotting the graphs\n",
    "rect1=plt.bar(pos,data['With functioning Stabilization Units for New Born'],width , alpha=0.5 , color='#ff99cc',label=data['year'][0])\n",
    "autolabel(rect1)\n",
    "rect2 = plt.bar([p+width for p in pos],data['With New Born Care Corner'],width,alpha = 0.5,color='#d5beff',label=data['year'][1])\n",
    "autolabel(rect2)\n",
    "ax.set_xlabel('Year')\n",
    "ax.set_ylabel('Percentage')\n",
    "ax.set_title('CHC facilities in Jharkhand across years')\n",
    "ax.set_xticks([p + 1.5 * width for p in pos])\n",
    "ax.set_xticklabels(data['year'])\n",
    "plt.xlim(min(pos)-width, max(pos)+width*4)\n",
    "plt.ylim([0, 100] )\n",
    "plt.legend(['With functioning Stabilization Units for New Born', 'With New Born Care Corner'], loc='center')\n",
    "plt.grid()\n",
    "plt.show()"
   ]
  },
  {
   "cell_type": "code",
   "execution_count": 2,
   "metadata": {
    "collapsed": true
   },
   "outputs": [],
   "source": [
    "# REQUIRED-SANCTION-IN POSITION OF PEDIATRICIANS IN CHC\n",
    "\n",
    "import pandas as pd\n",
    "import matplotlib.pyplot as plt\n",
    "import numpy as np\n",
    "data = pd.read_csv(\"C:\\Users\\Nirmit\\kanoe_project\\pediatricians_statewise\\JHA_pedia.csv\")#enter path here\n",
    "def autolabel(rects):\n",
    "    for rect in rects:\n",
    "        height = rect.get_height()\n",
    "        plt.text(rect.get_x()+rect.get_width()/2., 1.05*height, '%d'%int(height),\n",
    "                ha='center', va='bottom')\t\t\t\n",
    "pos = list(range(len(data['Paediatricians - Required1 - [R]']))) # setting position of the graphs\n",
    "width = 0.25\n",
    "fig, ax = plt.subplots(figsize=(10,5)) # plotting the graphs\n",
    "rect1=plt.bar(pos,data['Paediatricians - Required1 - [R]'],width , alpha=0.5 , color='#EE3224',label=data['Year'][0])\n",
    "autolabel(rect1)\n",
    "rect2 = plt.bar([p+width for p in pos],data['Paediatricians - Sanctioned - [S]'],width,alpha = 0.5,color='#FFC222',label=data['Year'][1])\n",
    "autolabel(rect2)\n",
    "rect3 = plt.bar([p+width*2 for p in pos],data['Paediatricians - In Position - [P]'],width,alpha=0.5,color='#F78F1E',label=data['Year'][2])\n",
    "autolabel(rect3)\n",
    "ax.set_xlabel('Year')\n",
    "ax.set_ylabel('No of pediatricians')\n",
    "ax.set_title('Number of pediatricians in Jharkhand across years')\n",
    "ax.set_xticks([p + 1.5 * width for p in pos])\n",
    "ax.set_xticklabels(data['Year'])\n",
    "plt.xlim(min(pos)-width, max(pos)+width*4)\n",
    "plt.ylim([0, 300] )\n",
    "plt.legend(['Required', 'Sanctioned', 'InPosition'], loc='upper left')\n",
    "plt.grid()\n",
    "plt.show()"
   ]
  },
  {
   "cell_type": "code",
   "execution_count": null,
   "metadata": {
    "collapsed": true
   },
   "outputs": [],
   "source": []
  },
  {
   "cell_type": "code",
   "execution_count": 4,
   "metadata": {
    "collapsed": true
   },
   "outputs": [],
   "source": [
    "# MATERNAL MORTALITY RATIO VS YEAR\n",
    "\n",
    "import pandas as pd\n",
    "import matplotlib.pyplot as plt\n",
    "data = pd.read_csv(\"C:\\Users\\Nirmit\\kanoe_project\\mmr_statewise\\JHA_mmr.csv\")#enter path here\n",
    "df=pd.DataFrame({'Year': data['year'],\n",
    "                 'MMR': data['mmr']})\n",
    "df = df.set_index('Year')\n",
    "ax = df.plot(kind='bar',  title='MMR in Jharkhand across years')\n",
    "ax.set_ylim(0, 600)\n",
    "for i, label in enumerate(list(df.index)):\n",
    "    score = df.ix[label]['MMR']\n",
    "    ax.annotate(str(score), (i, score + 0.2))\n",
    "plt.xlabel('Year')\n",
    "plt.ylabel('MMR')\n",
    "plt.grid()\n",
    "plt.show()"
   ]
  },
  {
   "cell_type": "code",
   "execution_count": 3,
   "metadata": {
    "collapsed": true
   },
   "outputs": [],
   "source": [
    "# FACILITIES AT PHC\n",
    "\n",
    "import pandas as pd\n",
    "import matplotlib.pyplot as plt\n",
    "import numpy as np\n",
    "data = pd.read_csv(\"C:\\Users\\Nirmit\\kanoe_project\\phcf\\JHA_fphc.csv\")#enter path here\n",
    "def autolabel(rects):\n",
    "    for rect in rects:\n",
    "        height = rect.get_height()\n",
    "        plt.text(rect.get_x()+rect.get_width()/2., 0.95*height, '%d'%int(height),\n",
    "                ha='center', va='bottom')\t\t\t\n",
    "pos = list(range(len(data['With Labour Room']))) # setting position of the graphs\n",
    "width = 0.2\n",
    "fig, ax = plt.subplots(figsize=(10,5)) # plotting the graphs\n",
    "rect1=plt.bar(pos,data['With Labour Room'],width , alpha=0.5 , color='#ff99cc',label=data['year'][0])\n",
    "autolabel(rect1)\n",
    "rect2 = plt.bar([p+width for p in pos],data['With Operation Theatre'],width,alpha = 0.5,color='#d5beff',label=data['year'][1])\n",
    "autolabel(rect2)\n",
    "rect3 = plt.bar([p+width*2 for p in pos],data['With 4-6 Beds'],width,alpha=0.5,color='#9988cc',label=data['year'][2])\n",
    "autolabel(rect3)\n",
    "rect4 = plt.bar([p+width*3 for p in pos],data['With 24 Hrs. Delivery Facility'],width,alpha=0.5,color='#00aadd',label=data['year'][3])\n",
    "autolabel(rect4)\n",
    "ax.set_xlabel('Year')\n",
    "ax.set_ylabel('Percentage')\n",
    "ax.set_title('PHC facilities in Jharkhand across years')\n",
    "ax.set_xticks([p + 1.5 * width for p in pos])\n",
    "ax.set_xticklabels(data['year'])\n",
    "plt.xlim(min(pos)-width, max(pos)+width*4)\n",
    "plt.ylim([0, 100] )\n",
    "plt.legend(['With Labour Room', 'With Operation Theatre', 'With 4-6 Beds','With 24 Hrs. Delivery Facility'], loc='upper center')\n",
    "plt.grid()\n",
    "plt.show()"
   ]
  },
  {
   "cell_type": "code",
   "execution_count": 4,
   "metadata": {
    "collapsed": false
   },
   "outputs": [],
   "source": [
    "# REQUIRED, SANCTIONED, IN-POSITION OF OBSTETRICIANS AND GYNAECOLOGISTS AT CHC\n",
    "\n",
    "import pandas as pd\n",
    "import matplotlib.pyplot as plt\n",
    "data = pd.read_csv(\"C:\\Users\\Nirmit\\kanoe_project\\o&g_statewise\\JHA_og.csv\")#enter path here\n",
    "def autolabel(rects):\n",
    "    for rect in rects:\n",
    "        height = rect.get_height()\n",
    "        plt.text(rect.get_x()+rect.get_width()/2., 1.05*height, '%d'%int(height),\n",
    "                ha='center', va='bottom')\t\t\t\t\n",
    "pos = list(range(len(data['R']))) # setting position of the graphs\n",
    "width = 0.25\n",
    "fig, ax = plt.subplots(figsize=(10,5)) # plotting the graphs\n",
    "rect1=plt.bar(pos,data['R'],width , alpha=0.5 , color='#EE3224',label=data['Year'][0])\n",
    "autolabel(rect1)\n",
    "rect2 = plt.bar([p+width for p in pos],data['S'],width,alpha = 0.5,color='#FFC222',label=data['Year'][1])\n",
    "autolabel(rect2)\n",
    "rect3 = plt.bar([p+width*2 for p in pos],data['P'],width,alpha=0.5,color='#F78F1E',label=data['Year'][2])\n",
    "autolabel(rect3)\n",
    "ax.set_xlabel('Year')\n",
    "ax.set_ylabel('No of obstetricians & gynaecologists')\n",
    "ax.set_title('Obstetricians & Gynaecologists in Jharkhand across years')\n",
    "ax.set_xticks([p + 1.5 * width for p in pos])\n",
    "ax.set_xticklabels(data['Year'])\n",
    "plt.xlim(min(pos)-width, max(pos)+width*4)\n",
    "plt.ylim([0, max(data['R'] + data['S'] + data['P'])] )\n",
    "plt.legend(['Required', 'Sanctioned', 'InPosition'], loc='upper left')\n",
    "plt.grid()\n",
    "plt.show()"
   ]
  },
  {
   "cell_type": "code",
   "execution_count": null,
   "metadata": {
    "collapsed": true
   },
   "outputs": [],
   "source": []
  },
  {
   "cell_type": "code",
   "execution_count": 3,
   "metadata": {
    "collapsed": true
   },
   "outputs": [],
   "source": [
    "# FACILITIES AT SUB CENTRES\n",
    "\n",
    "import pandas as pd\n",
    "import matplotlib.pyplot as plt\n",
    "import numpy as np\n",
    "data = pd.read_csv(\"C:\\Users\\Nirmit\\kanoe_project\\sc_facilities_statewise\\JHA_fsc.csv\")#enter path here\n",
    "def autolabel(rects):\n",
    "    for rect in rects:\n",
    "        height = rect.get_height()\n",
    "        plt.text(rect.get_x()+rect.get_width()/2., 0.95*height, '%d'%int(height),\n",
    "                ha='center', va='bottom')\t\t\t\n",
    "pos = list(range(len(data['Without Regular Water Supply']))) # setting position of the graphs\n",
    "width = 0.2\n",
    "fig, ax = plt.subplots(figsize=(10,5)) # plotting the graphs\n",
    "rect1=plt.bar(pos,data['Without Regular Water Supply'],width , alpha=0.5 , color='#ff99cc',label=data['year'][0])\n",
    "autolabel(rect1)\n",
    "rect2 = plt.bar([p+width for p in pos],data['Without Electric Supply'],width,alpha = 0.5,color='#d5beff',label=data['year'][1])\n",
    "autolabel(rect2)\n",
    "rect3 = plt.bar([p+width*2 for p in pos],data['Without All-Weather Motorable  Approach Road'],width,alpha=0.5,color='#9988cc',label=data['year'][2])\n",
    "autolabel(rect3)\n",
    "ax.set_xlabel('Year')\n",
    "ax.set_ylabel('Percentage')\n",
    "ax.set_title('Sub Centre facilities in Jharkhand across years')\n",
    "ax.set_xticks([p + 1.5 * width for p in pos])\n",
    "ax.set_xticklabels(data['year'])\n",
    "plt.xlim(min(pos)-width, max(pos)+width*4)\n",
    "plt.ylim([0, 100] )\n",
    "plt.legend(['Without Regular Water Supply', 'Without Electric Supply', 'Without All-Weather Motorable Approach Road'], loc='center')\n",
    "plt.grid()\n",
    "plt.show()"
   ]
  },
  {
   "cell_type": "code",
   "execution_count": 1,
   "metadata": {
    "collapsed": true
   },
   "outputs": [],
   "source": [
    "# OTHER FACILITIES AT PHC\n",
    "\n",
    "import pandas as pd\n",
    "import matplotlib.pyplot as plt\n",
    "import numpy as np\n",
    "data = pd.read_csv(\"C:\\Users\\Nirmit\\kanoe_project\\phcf\\JHA_fphc.csv\")#enter path here\n",
    "def autolabel(rects):\n",
    "    for rect in rects:\n",
    "        height = rect.get_height()\n",
    "        plt.text(rect.get_x()+rect.get_width()/2., 1.05*height, '%d'%int(height),\n",
    "                ha='center', va='bottom')\t\t\t\n",
    "pos = list(range(len(data[' Without Electric Supply']))) # setting position of the graphs\n",
    "width = 0.15\n",
    "fig, ax = plt.subplots(figsize=(10,5)) # plotting the graphs\n",
    "rect1=plt.bar(pos,data[' Without Electric Supply'],width , alpha=0.7 , color='#0e2f44',label=data['year'][0])\n",
    "autolabel(rect1)\n",
    "rect2 = plt.bar([p+width for p in pos],data['Without Regular Water Supply'],width,alpha = 0.5,color='#ff7f50',label=data['year'][1])\n",
    "autolabel(rect2)\n",
    "rect3 = plt.bar([p+width*2 for p in pos],data['Without AllWeather Motorable Approach Road'],width,alpha=0.5,color='#6897bb',label=data['year'][2])\n",
    "autolabel(rect3)\n",
    "rect4 = plt.bar([p+width*3 for p in pos],data['With Telephone'],width,alpha=0.5,color='#66cdaa',label=data['year'][3])\n",
    "autolabel(rect4)\n",
    "rect5 = plt.bar([p+width*4 for p in pos],data['With Computer'],width,alpha=0.5,color='#8b0000',label=data['year'][4])\n",
    "autolabel(rect5)\n",
    "ax.set_xlabel('Year')\n",
    "ax.set_ylabel('Percentage')\n",
    "ax.set_title('PHC facilities in Jharkhand across years')\n",
    "ax.set_xticks([p + 1.5 * width for p in pos])\n",
    "ax.set_xticklabels(data['year'])\n",
    "plt.xlim(min(pos)-width, max(pos)+width*6)\n",
    "plt.ylim([0, 100] )\n",
    "plt.legend([' Without Electric Supply', 'Without Regular Water Supply', 'Without AllWeather Motorable Approach Road','With Telephone','With Computer'], loc='upper center')\n",
    "plt.grid()\n",
    "plt.show()"
   ]
  },
  {
   "cell_type": "code",
   "execution_count": 7,
   "metadata": {
    "collapsed": false
   },
   "outputs": [],
   "source": [
    "# OTHER FACILITIES AT CHC\n",
    "\n",
    "import pandas as pd\n",
    "import matplotlib.pyplot as plt\n",
    "import numpy as np\n",
    "data = pd.read_csv(\"C:\\Users\\Nirmit\\kanoe_project\\chcf\\JHA_fchc.csv\")#enter path here\n",
    "def autolabel(rects):\n",
    "    for rect in rects:\n",
    "        height = rect.get_height()\n",
    "        plt.text(rect.get_x()+rect.get_width()/2., 0.95*height, '%d'%int(height),\n",
    "                ha='center', va='bottom')\t\t\t\n",
    "pos = list(range(len(data['With all four specialists']))) # setting position of the graphs\n",
    "width = 0.2\n",
    "fig, ax = plt.subplots(figsize=(10,5)) # plotting the graphs\n",
    "rect1=plt.bar(pos,data['With all four specialists'],width , alpha=0.5 , color='#ffd700',label=data['year'][0])\n",
    "autolabel(rect1)\n",
    "rect2 = plt.bar([p+width for p in pos],data['With functional O.T.'],width,alpha = 0.5,color='#469649',label=data['year'][1])\n",
    "autolabel(rect2)\n",
    "rect3 = plt.bar([p+width*2 for p in pos],data['With functional Labor Room'],width,alpha = 0.5,color='#b4eeb4',label=data['year'][2])\n",
    "autolabel(rect3)\n",
    "rect4 = plt.bar([p+width*3 for p in pos],data['With at least 30 beds'],width,alpha = 0.5,color='#bf1616',label=data['year'][3])\n",
    "autolabel(rect4)\n",
    "ax.set_xlabel('Year')\n",
    "ax.set_ylabel('Percentage')\n",
    "ax.set_title('Other CHC facilities in Jharkhand across years')\n",
    "ax.set_xticks([p + 1.5 * width for p in pos])\n",
    "ax.set_xticklabels(data['year'])\n",
    "plt.xlim(min(pos)-width, max(pos)+width*6)\n",
    "plt.ylim([0, 100] )\n",
    "plt.legend(['With all four specialists', 'With functional O.T.','With functional Labor Room','With at least 30 beds'], loc='center')\n",
    "plt.grid()\n",
    "plt.show()"
   ]
  },
  {
   "cell_type": "code",
   "execution_count": 1,
   "metadata": {
    "collapsed": true
   },
   "outputs": [],
   "source": [
    "# REQUIRED, SACNTIONED, IN-POSITION OF DOCTORS AT CHCs\n",
    "\n",
    "import pandas as pd\n",
    "import matplotlib.pyplot as plt\n",
    "import numpy as np\n",
    "data = pd.read_csv(\"C:\\Users\\Nirmit\\kanoe_project\\doctors_chc\\JHA_chc.csv\")#enter path here\n",
    "def autolabel(rects):\n",
    "    for rect in rects:\n",
    "        height = rect.get_height()\n",
    "        plt.text(rect.get_x()+rect.get_width()/2., 1.05*height, '%d'%int(height),\n",
    "                ha='center', va='bottom')\t\t\t\t\n",
    "pos = list(range(len(data['R']))) # setting position of the graphs\n",
    "width = 0.25\n",
    "fig, ax = plt.subplots(figsize=(10,5)) # plotting the graphs\n",
    "rect1=plt.bar(pos,data['R'],width , alpha=0.5 , color='#EE3224',label=data['Year'][0])\n",
    "autolabel(rect1)\n",
    "rect2 = plt.bar([p+width for p in pos],data['S'],width,alpha = 0.5,color='#FFC222',label=data['Year'][1])\n",
    "autolabel(rect2)\n",
    "rect3 = plt.bar([p+width*2 for p in pos],data['P'],width,alpha=0.5,color='#F78F1E',label=data['Year'][2])\n",
    "autolabel(rect3)\n",
    "ax.set_xlabel('Year')\n",
    "ax.set_ylabel('No of doctors')\n",
    "ax.set_title('RSP of doctors at CHCs in Jharkhand across years')\n",
    "ax.set_xticks([p + 1.5 * width for p in pos])\n",
    "ax.set_xticklabels(data['Year'])\n",
    "plt.xlim(min(pos)-width, max(pos)+width*4)\n",
    "plt.ylim([0, max(data['R'] + data['S'] + data['P'])] )\n",
    "plt.legend(['Required', 'Sanctioned', 'InPosition'], loc='upper left')\n",
    "plt.grid()\n",
    "plt.show()"
   ]
  },
  {
   "cell_type": "code",
   "execution_count": null,
   "metadata": {
    "collapsed": true
   },
   "outputs": [],
   "source": []
  }
 ],
 "metadata": {
  "anaconda-cloud": {},
  "kernelspec": {
   "display_name": "Python [Root]",
   "language": "python",
   "name": "Python [Root]"
  },
  "language_info": {
   "codemirror_mode": {
    "name": "ipython",
    "version": 2
   },
   "file_extension": ".py",
   "mimetype": "text/x-python",
   "name": "python",
   "nbconvert_exporter": "python",
   "pygments_lexer": "ipython2",
   "version": "2.7.11"
  }
 },
 "nbformat": 4,
 "nbformat_minor": 0
}
